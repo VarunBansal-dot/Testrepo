{
  "metadata": {
    "language_info": {
      "codemirror_mode": {
        "name": "python",
        "version": 3
      },
      "file_extension": ".py",
      "mimetype": "text/x-python",
      "name": "python",
      "nbconvert_exporter": "python",
      "pygments_lexer": "ipython3",
      "version": "3.8"
    },
    "kernelspec": {
      "name": "python",
      "display_name": "Pyolite",
      "language": "python"
    }
  },
  "nbformat_minor": 4,
  "nbformat": 4,
  "cells": [
    {
      "cell_type": "markdown",
      "source": "# My Jupyter Notebook on IBM Watson Studio",
      "metadata": {}
    },
    {
      "cell_type": "markdown",
      "source": "<b> Varun Bansal </b> <br> Senior Consultant in Private Sector </br>",
      "metadata": {}
    },
    {
      "cell_type": "markdown",
      "source": "<i> I have interest in Data Science beacuse I am fond of Mathematics and Computer Programming. It helps in improving the business capabilities. </i>",
      "metadata": {}
    },
    {
      "cell_type": "markdown",
      "source": "### The code in Cell 5 prints the most common command for a beginner in programming world : Hello World!",
      "metadata": {}
    },
    {
      "cell_type": "code",
      "source": "print(\"Hello World!\")",
      "metadata": {},
      "execution_count": null,
      "outputs": []
    },
    {
      "cell_type": "markdown",
      "source": "| Column1 | Column2 | Column3 |\n| ----- | :-----: | -----: |\n|Row1|Row2|Row3|\n|Row11|Row22|Row33|\n|Row111|Row222|Row333|\n<blockquote> This is the output of a blockquote statement </blockquote>\n<ol>\n    <li>NumberedListItem1</li>\n    <li>NumberedListItem2</li>\n    <li>NumberedListItem3</li>\n</ol>",
      "metadata": {}
    }
  ]
}